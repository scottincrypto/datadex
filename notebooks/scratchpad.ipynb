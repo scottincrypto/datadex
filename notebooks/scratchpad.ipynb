{
 "cells": [
  {
   "cell_type": "code",
   "execution_count": 4,
   "metadata": {
    "tags": []
   },
   "outputs": [],
   "source": [
    "b = 240\n",
    "perf = 0.5 * 0.85 + 0.5 * 1.1\n",
    "mul = 0.2\n",
    "out = b * perf * mul\n",
    "net = out * 0.515"
   ]
  },
  {
   "cell_type": "code",
   "execution_count": 1,
   "metadata": {},
   "outputs": [
    {
     "data": {
      "text/plain": [
       "8.398"
      ]
     },
     "execution_count": 1,
     "metadata": {},
     "output_type": "execute_result"
    }
   ],
   "source": [
    "5.2 + 2.86 + 0.338"
   ]
  },
  {
   "cell_type": "code",
   "execution_count": 5,
   "metadata": {},
   "outputs": [
    {
     "data": {
      "text/plain": [
       "19955251.21"
      ]
     },
     "execution_count": 5,
     "metadata": {},
     "output_type": "execute_result"
    }
   ],
   "source": [
    "price_mix = [10013298.50, 3333175.70]\n",
    "exchange = [1.66, 1]\n",
    "\n",
    "price = [p * x for p, x in zip(price_mix, exchange)]\n",
    "\n",
    "sum(price)"
   ]
  },
  {
   "cell_type": "code",
   "execution_count": 20,
   "metadata": {},
   "outputs": [
    {
     "name": "stdout",
     "output_type": "stream",
     "text": [
      "0\n"
     ]
    }
   ],
   "source": [
    "for i in range(1):\n",
    "    print(i, end=\" \")"
   ]
  },
  {
   "cell_type": "code",
   "execution_count": 1,
   "metadata": {
    "tags": [
     "fugitive_drainage"
    ]
   },
   "outputs": [
    {
     "data": {
      "text/plain": [
       "0.30684931506849317"
      ]
     },
     "execution_count": 1,
     "metadata": {},
     "output_type": "execute_result"
    }
   ],
   "source": [
    "density = 0.657\n",
    "daily_prod = 53600\n",
    "\n",
    "ch4_per_day = density * daily_prod / 1000\n",
    "ch4_per_year = ch4_per_day * 365\n",
    "co2_e_per_year_from_ch4 = ch4_per_year * 28\n",
    "\n",
    "co2_production_rate = 2.7433\n",
    "\n",
    "co2_produced_per_year = ch4_per_year * co2_production_rate\n",
    "\n",
    "net_co2_e = (co2_produced_per_year - co2_e_per_year_from_ch4) / 1000\n",
    "\n",
    "\n",
    "72072 * 28 / 1000 / 7 * 10\n",
    "\n",
    "# 4PJ / 50MJ/kg =\n",
    "4 * 1e9 / 50 * 28 / 1000 / 7300000"
   ]
  }
 ],
 "metadata": {
  "kernelspec": {
   "display_name": "Python 3",
   "language": "python",
   "name": "python3"
  },
  "language_info": {
   "codemirror_mode": {
    "name": "ipython",
    "version": 3
   },
   "file_extension": ".py",
   "mimetype": "text/x-python",
   "name": "python",
   "nbconvert_exporter": "python",
   "pygments_lexer": "ipython3",
   "version": "3.11.4"
  },
  "orig_nbformat": 4
 },
 "nbformat": 4,
 "nbformat_minor": 2
}
